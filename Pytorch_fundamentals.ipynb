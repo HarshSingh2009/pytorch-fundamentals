{
  "cells": [
    {
      "cell_type": "markdown",
      "id": "40d9ecf2",
      "metadata": {
        "id": "40d9ecf2"
      },
      "source": [
        "## Pytorch Fundamentals: Working  with Torch Tensors\n",
        "\n",
        "In this notebook, you will learn the basics of `torch tensors` and various other things!!"
      ]
    },
    {
      "cell_type": "code",
      "execution_count": 1,
      "id": "c834417b",
      "metadata": {
        "id": "c834417b"
      },
      "outputs": [],
      "source": [
        "import torch\n",
        "import numpy as np\n",
        "import pandas as pd\n",
        "import matplotlib.pyplot as plt"
      ]
    },
    {
      "cell_type": "code",
      "execution_count": 2,
      "id": "1bdda342",
      "metadata": {
        "colab": {
          "base_uri": "https://localhost:8080/",
          "height": 35
        },
        "id": "1bdda342",
        "outputId": "231f9b40-5642-4a62-c283-cc1bfb27944d"
      },
      "outputs": [
        {
          "data": {
            "application/vnd.google.colaboratory.intrinsic+json": {
              "type": "string"
            },
            "text/plain": [
              "'2.1.0+cu118'"
            ]
          },
          "execution_count": 2,
          "metadata": {},
          "output_type": "execute_result"
        }
      ],
      "source": [
        "torch.__version__"
      ]
    },
    {
      "cell_type": "markdown",
      "id": "b01085fb",
      "metadata": {
        "id": "b01085fb"
      },
      "source": [
        "## Intro to Tensors\n",
        "\n",
        "![alt-text](https://i.pinimg.com/736x/57/cd/cb/57cdcbe32742764db5b578cfdb65635d.jpg)"
      ]
    },
    {
      "cell_type": "markdown",
      "id": "0305fbf7",
      "metadata": {
        "id": "0305fbf7"
      },
      "source": [
        "### `Scalars`"
      ]
    },
    {
      "cell_type": "code",
      "execution_count": 3,
      "id": "333101b9",
      "metadata": {
        "colab": {
          "base_uri": "https://localhost:8080/"
        },
        "id": "333101b9",
        "outputId": "6f173916-9645-4382-80aa-b2cf5954333b"
      },
      "outputs": [
        {
          "data": {
            "text/plain": [
              "tensor(7)"
            ]
          },
          "execution_count": 3,
          "metadata": {},
          "output_type": "execute_result"
        }
      ],
      "source": [
        "# scalar\n",
        "scalar = torch.tensor(7)\n",
        "scalar"
      ]
    },
    {
      "cell_type": "code",
      "execution_count": 4,
      "id": "029e2e27",
      "metadata": {
        "colab": {
          "base_uri": "https://localhost:8080/"
        },
        "id": "029e2e27",
        "outputId": "a85b329d-b0cc-41b1-febf-330b4fd921a1"
      },
      "outputs": [
        {
          "data": {
            "text/plain": [
              "0"
            ]
          },
          "execution_count": 4,
          "metadata": {},
          "output_type": "execute_result"
        }
      ],
      "source": [
        "scalar.ndim"
      ]
    },
    {
      "cell_type": "code",
      "execution_count": 5,
      "id": "ae1bdb78",
      "metadata": {
        "colab": {
          "base_uri": "https://localhost:8080/"
        },
        "id": "ae1bdb78",
        "outputId": "74efc079-17a0-4ecf-da20-439bff2729dd"
      },
      "outputs": [
        {
          "data": {
            "text/plain": [
              "7"
            ]
          },
          "execution_count": 5,
          "metadata": {},
          "output_type": "execute_result"
        }
      ],
      "source": [
        "# getting tensor back to python INT\n",
        "scalar.item()"
      ]
    },
    {
      "cell_type": "markdown",
      "id": "f91b1ba1",
      "metadata": {
        "id": "f91b1ba1"
      },
      "source": [
        "### `Vectors`"
      ]
    },
    {
      "cell_type": "code",
      "execution_count": 6,
      "id": "779ab7d1",
      "metadata": {
        "colab": {
          "base_uri": "https://localhost:8080/"
        },
        "id": "779ab7d1",
        "outputId": "82fd8775-2be3-4325-e5b9-e70fc8fdd49c"
      },
      "outputs": [
        {
          "data": {
            "text/plain": [
              "tensor([21, 21])"
            ]
          },
          "execution_count": 6,
          "metadata": {},
          "output_type": "execute_result"
        }
      ],
      "source": [
        "vector = torch.tensor([21, 21])\n",
        "vector"
      ]
    },
    {
      "cell_type": "code",
      "execution_count": 7,
      "id": "085b5248",
      "metadata": {
        "colab": {
          "base_uri": "https://localhost:8080/"
        },
        "id": "085b5248",
        "outputId": "23d137f1-4c08-44d5-9342-43b10f16d466"
      },
      "outputs": [
        {
          "data": {
            "text/plain": [
              "1"
            ]
          },
          "execution_count": 7,
          "metadata": {},
          "output_type": "execute_result"
        }
      ],
      "source": [
        "vector.ndim"
      ]
    },
    {
      "cell_type": "code",
      "execution_count": 8,
      "id": "0125690e",
      "metadata": {
        "colab": {
          "base_uri": "https://localhost:8080/"
        },
        "id": "0125690e",
        "outputId": "dd6587e7-c790-4ec0-8599-a6213b2ee1eb"
      },
      "outputs": [
        {
          "data": {
            "text/plain": [
              "torch.Size([2])"
            ]
          },
          "execution_count": 8,
          "metadata": {},
          "output_type": "execute_result"
        }
      ],
      "source": [
        "vector.shape"
      ]
    },
    {
      "cell_type": "markdown",
      "id": "e212edfc",
      "metadata": {
        "id": "e212edfc"
      },
      "source": [
        "### `Matrix`"
      ]
    },
    {
      "cell_type": "code",
      "execution_count": 9,
      "id": "81b675df",
      "metadata": {
        "colab": {
          "base_uri": "https://localhost:8080/"
        },
        "id": "81b675df",
        "outputId": "c75cbe9c-9a08-4bcd-a50d-630dfcecca57"
      },
      "outputs": [
        {
          "data": {
            "text/plain": [
              "tensor([[21,  7],\n",
              "        [ 7, 21]])"
            ]
          },
          "execution_count": 9,
          "metadata": {},
          "output_type": "execute_result"
        }
      ],
      "source": [
        "matrix = torch.tensor([[21, 7],\n",
        "                      [7, 21]])\n",
        "matrix"
      ]
    },
    {
      "cell_type": "code",
      "execution_count": 10,
      "id": "fcc4b4aa",
      "metadata": {
        "colab": {
          "base_uri": "https://localhost:8080/"
        },
        "id": "fcc4b4aa",
        "outputId": "1ceb7726-876c-401b-9395-8a76a099e28e"
      },
      "outputs": [
        {
          "data": {
            "text/plain": [
              "2"
            ]
          },
          "execution_count": 10,
          "metadata": {},
          "output_type": "execute_result"
        }
      ],
      "source": [
        "matrix.ndim"
      ]
    },
    {
      "cell_type": "code",
      "execution_count": 11,
      "id": "658b5882",
      "metadata": {
        "colab": {
          "base_uri": "https://localhost:8080/"
        },
        "id": "658b5882",
        "outputId": "30aba3b8-8689-45a6-ad23-2174bb99f212"
      },
      "outputs": [
        {
          "data": {
            "text/plain": [
              "torch.Size([2, 2])"
            ]
          },
          "execution_count": 11,
          "metadata": {},
          "output_type": "execute_result"
        }
      ],
      "source": [
        "matrix.shape"
      ]
    },
    {
      "cell_type": "markdown",
      "id": "81b67b46",
      "metadata": {
        "id": "81b67b46"
      },
      "source": [
        "### `Tensors`"
      ]
    },
    {
      "cell_type": "code",
      "execution_count": 12,
      "id": "90ebd0d4",
      "metadata": {
        "colab": {
          "base_uri": "https://localhost:8080/"
        },
        "id": "90ebd0d4",
        "outputId": "aa182bd9-886a-47a4-e81c-d02f28247b98"
      },
      "outputs": [
        {
          "data": {
            "text/plain": [
              "tensor([[[1, 2, 3],\n",
              "         [4, 5, 6],\n",
              "         [7, 8, 9]]])"
            ]
          },
          "execution_count": 12,
          "metadata": {},
          "output_type": "execute_result"
        }
      ],
      "source": [
        "tensor = torch.tensor([[[1, 2, 3],\n",
        "                       [4, 5, 6],\n",
        "                       [7, 8, 9]]])\n",
        "tensor"
      ]
    },
    {
      "cell_type": "code",
      "execution_count": 13,
      "id": "5e435aa6",
      "metadata": {
        "colab": {
          "base_uri": "https://localhost:8080/"
        },
        "id": "5e435aa6",
        "outputId": "013406d7-6590-4dd2-8114-245be6b499af"
      },
      "outputs": [
        {
          "data": {
            "text/plain": [
              "3"
            ]
          },
          "execution_count": 13,
          "metadata": {},
          "output_type": "execute_result"
        }
      ],
      "source": [
        "tensor.ndim"
      ]
    },
    {
      "cell_type": "code",
      "execution_count": 14,
      "id": "d3e3a60a",
      "metadata": {
        "colab": {
          "base_uri": "https://localhost:8080/"
        },
        "id": "d3e3a60a",
        "outputId": "1a62d0a4-5ad1-4760-8220-68b66c3284a4"
      },
      "outputs": [
        {
          "data": {
            "text/plain": [
              "torch.Size([1, 3, 3])"
            ]
          },
          "execution_count": 14,
          "metadata": {},
          "output_type": "execute_result"
        }
      ],
      "source": [
        "tensor.shape"
      ]
    },
    {
      "cell_type": "code",
      "execution_count": 15,
      "id": "6ee44689",
      "metadata": {
        "colab": {
          "base_uri": "https://localhost:8080/"
        },
        "id": "6ee44689",
        "outputId": "5b81d0ee-fd57-4e05-94b6-bc766bae6771"
      },
      "outputs": [
        {
          "data": {
            "text/plain": [
              "tensor([[1, 2, 3],\n",
              "        [4, 5, 6],\n",
              "        [7, 8, 9]])"
            ]
          },
          "execution_count": 15,
          "metadata": {},
          "output_type": "execute_result"
        }
      ],
      "source": [
        "tensor[0]"
      ]
    },
    {
      "cell_type": "code",
      "execution_count": 16,
      "id": "49ad0d6f",
      "metadata": {
        "colab": {
          "base_uri": "https://localhost:8080/"
        },
        "id": "49ad0d6f",
        "outputId": "c66a54a3-015b-417b-a90b-1841735950b9"
      },
      "outputs": [
        {
          "data": {
            "text/plain": [
              "(tensor(3), tensor(5), tensor(7))"
            ]
          },
          "execution_count": 16,
          "metadata": {},
          "output_type": "execute_result"
        }
      ],
      "source": [
        "tensor[0][0][2], tensor[0][1][1], tensor[0][2][0]"
      ]
    },
    {
      "cell_type": "markdown",
      "id": "ef91b20a",
      "metadata": {
        "id": "ef91b20a"
      },
      "source": [
        "## Creating Random Tensors using Pytorch\n",
        "\n",
        "* **Important**: `Neural Network's weight/bias initialization` are completely random and then an optimizer manipulates the values so that it better fit the data, therefore its a useful concept"
      ]
    },
    {
      "cell_type": "code",
      "execution_count": 17,
      "id": "efffa0cf",
      "metadata": {
        "colab": {
          "base_uri": "https://localhost:8080/"
        },
        "id": "efffa0cf",
        "outputId": "00f409bd-b588-4b5c-e085-ca892506cf30"
      },
      "outputs": [
        {
          "data": {
            "text/plain": [
              "tensor([[[0.2403, 0.0682, 0.6486, 0.4497],\n",
              "         [0.2331, 0.3754, 0.2173, 0.1532],\n",
              "         [0.2233, 0.8267, 0.8846, 0.5959],\n",
              "         [0.6802, 0.6543, 0.1173, 0.7456],\n",
              "         [0.2330, 0.0120, 0.3215, 0.2846],\n",
              "         [0.9259, 0.7636, 0.9717, 0.0303],\n",
              "         [0.9956, 0.9429, 0.9675, 0.2982]]])"
            ]
          },
          "execution_count": 17,
          "metadata": {},
          "output_type": "execute_result"
        }
      ],
      "source": [
        "random_tensor = torch.rand(1, 7, 4)\n",
        "random_tensor"
      ]
    },
    {
      "cell_type": "code",
      "execution_count": 18,
      "id": "f3053b90",
      "metadata": {
        "colab": {
          "base_uri": "https://localhost:8080/"
        },
        "id": "f3053b90",
        "outputId": "664a7bc5-63ea-4ea5-8134-809388228f6c"
      },
      "outputs": [
        {
          "data": {
            "text/plain": [
              "(3, torch.Size([1, 7, 4]))"
            ]
          },
          "execution_count": 18,
          "metadata": {},
          "output_type": "execute_result"
        }
      ],
      "source": [
        "random_tensor.ndim, random_tensor.shape"
      ]
    },
    {
      "cell_type": "code",
      "execution_count": 19,
      "id": "7ac2eeaf",
      "metadata": {
        "colab": {
          "base_uri": "https://localhost:8080/"
        },
        "id": "7ac2eeaf",
        "outputId": "9bbe1466-f57f-42ab-8de9-445e9de3dc11"
      },
      "outputs": [
        {
          "data": {
            "text/plain": [
              "tensor([[[0.5928, 0.5853, 0.3573],\n",
              "         [0.1181, 0.0508, 0.9740],\n",
              "         [0.3914, 0.2462, 0.3111],\n",
              "         ...,\n",
              "         [0.6495, 0.0584, 0.3068],\n",
              "         [0.1019, 0.6999, 0.5982],\n",
              "         [0.1480, 0.1510, 0.1807]],\n",
              "\n",
              "        [[0.0751, 0.2279, 0.3017],\n",
              "         [0.2368, 0.3321, 0.5974],\n",
              "         [0.4190, 0.9538, 0.2402],\n",
              "         ...,\n",
              "         [0.1848, 0.6266, 0.3176],\n",
              "         [0.9728, 0.5140, 0.0129],\n",
              "         [0.4789, 0.2434, 0.5138]],\n",
              "\n",
              "        [[0.0492, 0.9607, 0.6586],\n",
              "         [0.6008, 0.4417, 0.6857],\n",
              "         [0.6078, 0.1900, 0.7720],\n",
              "         ...,\n",
              "         [0.4360, 0.9511, 0.1719],\n",
              "         [0.4493, 0.9885, 0.9032],\n",
              "         [0.5170, 0.0745, 0.9450]],\n",
              "\n",
              "        ...,\n",
              "\n",
              "        [[0.8930, 0.7332, 0.2349],\n",
              "         [0.7456, 0.1313, 0.6008],\n",
              "         [0.8494, 0.8342, 0.5882],\n",
              "         ...,\n",
              "         [0.0410, 0.3639, 0.8215],\n",
              "         [0.9191, 0.2964, 0.7015],\n",
              "         [0.2070, 0.2833, 0.6381]],\n",
              "\n",
              "        [[0.2899, 0.1769, 0.6614],\n",
              "         [0.8197, 0.5083, 0.4950],\n",
              "         [0.2928, 0.2205, 0.0177],\n",
              "         ...,\n",
              "         [0.6248, 0.4126, 0.1380],\n",
              "         [0.8460, 0.7175, 0.4462],\n",
              "         [0.7013, 0.9442, 0.4784]],\n",
              "\n",
              "        [[0.6905, 0.6315, 0.3551],\n",
              "         [0.4952, 0.1726, 0.2388],\n",
              "         [0.5370, 0.6262, 0.7175],\n",
              "         ...,\n",
              "         [0.4244, 0.5203, 0.5629],\n",
              "         [0.7085, 0.6040, 0.3837],\n",
              "         [0.1130, 0.3511, 0.6008]]])"
            ]
          },
          "execution_count": 19,
          "metadata": {},
          "output_type": "execute_result"
        }
      ],
      "source": [
        "# create a random tensor with similar shape to an image tensor\n",
        "random_image_size_tensor = torch.rand(size=(224, 224, 3))\n",
        "random_image_size_tensor"
      ]
    },
    {
      "cell_type": "code",
      "execution_count": 20,
      "id": "415fac8d",
      "metadata": {
        "colab": {
          "base_uri": "https://localhost:8080/"
        },
        "id": "415fac8d",
        "outputId": "5556f6fa-197e-42e3-f60a-f68f4eddb99a"
      },
      "outputs": [
        {
          "data": {
            "text/plain": [
              "(3, torch.Size([224, 224, 3]))"
            ]
          },
          "execution_count": 20,
          "metadata": {},
          "output_type": "execute_result"
        }
      ],
      "source": [
        "random_image_size_tensor.ndim, random_image_size_tensor.shape"
      ]
    },
    {
      "cell_type": "code",
      "execution_count": 21,
      "id": "88c7871d",
      "metadata": {
        "colab": {
          "base_uri": "https://localhost:8080/",
          "height": 451
        },
        "id": "88c7871d",
        "outputId": "ce6c6ded-ff73-4aaf-8ab1-0e97a3072c4b"
      },
      "outputs": [
        {
          "data": {
            "text/plain": [
              "<matplotlib.image.AxesImage at 0x7f89514a3670>"
            ]
          },
          "execution_count": 21,
          "metadata": {},
          "output_type": "execute_result"
        },
        {
          "data": {
            "image/png": "[encoded data removed]",
            "text/plain": [
              "<Figure size 640x480 with 1 Axes>"
            ]
          },
          "metadata": {},
          "output_type": "display_data"
        }
      ],
      "source": [
        "plt.imshow(random_image_size_tensor)"
      ]
    },
    {
      "cell_type": "markdown",
      "id": "8fae1972",
      "metadata": {
        "id": "8fae1972"
      },
      "source": [
        "## `Zero and Ones` tensors\n",
        "\n",
        "* **Why Create a tensor full of zeros**: This is helpful when you want to `mask` a tensor(convert tensor to zeros), we take a matrix full of zeros, with similar size to the input_matrix and upon multiplying turns to 0's"
      ]
    },
    {
      "cell_type": "code",
      "execution_count": 22,
      "id": "78e27bd3",
      "metadata": {
        "colab": {
          "base_uri": "https://localhost:8080/"
        },
        "id": "78e27bd3",
        "outputId": "125e7f01-4271-43dc-9114-331bd8d9a198"
      },
      "outputs": [
        {
          "data": {
            "text/plain": [
              "tensor([[0., 0., 0., 0.],\n",
              "        [0., 0., 0., 0.],\n",
              "        [0., 0., 0., 0.]])"
            ]
          },
          "execution_count": 22,
          "metadata": {},
          "output_type": "execute_result"
        }
      ],
      "source": [
        "# Create a tensor of all zeros\n",
        "zeros = torch.zeros(size=(3, 4))\n",
        "zeros"
      ]
    },
    {
      "cell_type": "code",
      "execution_count": 23,
      "id": "a3e54ffb",
      "metadata": {
        "colab": {
          "base_uri": "https://localhost:8080/"
        },
        "id": "a3e54ffb",
        "outputId": "a0fd1a26-2cec-4e01-9038-79b635131d09"
      },
      "outputs": [
        {
          "data": {
            "text/plain": [
              "tensor([[1., 1., 1., 1.],\n",
              "        [1., 1., 1., 1.],\n",
              "        [1., 1., 1., 1.]])"
            ]
          },
          "execution_count": 23,
          "metadata": {},
          "output_type": "execute_result"
        }
      ],
      "source": [
        "# Create a tensor of all ones\n",
        "ones = torch.ones(size=(3, 4))\n",
        "ones"
      ]
    },
    {
      "cell_type": "code",
      "execution_count": 24,
      "id": "83eccf27",
      "metadata": {
        "colab": {
          "base_uri": "https://localhost:8080/"
        },
        "id": "83eccf27",
        "outputId": "0e0018c5-f094-4b56-ee82-66b3ba172144"
      },
      "outputs": [
        {
          "data": {
            "text/plain": [
              "(torch.float32, torch.float32)"
            ]
          },
          "execution_count": 24,
          "metadata": {},
          "output_type": "execute_result"
        }
      ],
      "source": [
        "zeros.dtype, ones.dtype"
      ]
    },
    {
      "cell_type": "markdown",
      "id": "36910bf4",
      "metadata": {
        "id": "36910bf4"
      },
      "source": [
        "## Creating a Tensor Range & Tensors-like"
      ]
    },
    {
      "cell_type": "code",
      "execution_count": 25,
      "id": "77831049",
      "metadata": {
        "colab": {
          "base_uri": "https://localhost:8080/"
        },
        "id": "77831049",
        "outputId": "2ffac8b3-59c6-468b-fefa-5311e19bb0b9"
      },
      "outputs": [
        {
          "data": {
            "text/plain": [
              "tensor([ 0, 20, 40, 60, 80])"
            ]
          },
          "execution_count": 25,
          "metadata": {},
          "output_type": "execute_result"
        }
      ],
      "source": [
        "tensor_range = torch.arange(0, 100, 20)\n",
        "tensor_range"
      ]
    },
    {
      "cell_type": "code",
      "execution_count": 26,
      "id": "a883b559",
      "metadata": {
        "colab": {
          "base_uri": "https://localhost:8080/"
        },
        "id": "a883b559",
        "outputId": "6a4dd71f-22f0-47ab-9e85-be2e864e31aa"
      },
      "outputs": [
        {
          "data": {
            "text/plain": [
              "(1, torch.Size([5]))"
            ]
          },
          "execution_count": 26,
          "metadata": {},
          "output_type": "execute_result"
        }
      ],
      "source": [
        "tensor_range.ndim, tensor_range.shape"
      ]
    },
    {
      "cell_type": "code",
      "execution_count": 27,
      "id": "ae48869a",
      "metadata": {
        "colab": {
          "base_uri": "https://localhost:8080/"
        },
        "id": "ae48869a",
        "outputId": "e564d771-5d8f-4d9a-af42-ed4b895a49f0"
      },
      "outputs": [
        {
          "data": {
            "text/plain": [
              "tensor([0, 0, 0, 0, 0])"
            ]
          },
          "execution_count": 27,
          "metadata": {},
          "output_type": "execute_result"
        }
      ],
      "source": [
        "# Creating tensors like\n",
        "tensor_range_zeros = torch.zeros_like(tensor_range)\n",
        "tensor_range_zeros"
      ]
    },
    {
      "cell_type": "code",
      "execution_count": 28,
      "id": "81480148",
      "metadata": {
        "colab": {
          "base_uri": "https://localhost:8080/"
        },
        "id": "81480148",
        "outputId": "d855af91-0c68-4600-903d-9c571f591975"
      },
      "outputs": [
        {
          "data": {
            "text/plain": [
              "tensor([1, 1, 1, 1, 1])"
            ]
          },
          "execution_count": 28,
          "metadata": {},
          "output_type": "execute_result"
        }
      ],
      "source": [
        "# Creating tensors like with ones\n",
        "tensor_range_ones = torch.ones_like(tensor_range)\n",
        "tensor_range_ones"
      ]
    },
    {
      "cell_type": "markdown",
      "id": "eed8b633",
      "metadata": {
        "id": "eed8b633"
      },
      "source": [
        "## Tensor Data Types"
      ]
    },
    {
      "cell_type": "code",
      "execution_count": 29,
      "id": "f562e57d",
      "metadata": {
        "colab": {
          "base_uri": "https://localhost:8080/"
        },
        "id": "f562e57d",
        "outputId": "ed688745-39ff-4c7a-cd71-1dae53837633"
      },
      "outputs": [
        {
          "data": {
            "text/plain": [
              "tensor([3.3300, 6.7000, 9.8900])"
            ]
          },
          "execution_count": 29,
          "metadata": {},
          "output_type": "execute_result"
        }
      ],
      "source": [
        "# float32 tensors\n",
        "float32_tensor = torch.tensor([3.33, 6.7, 9.89],\n",
        "                             dtype=torch.float32,\n",
        "                             device=\"cpu\", # computing device\n",
        "                             requires_grad=False) # whether or not to track gradients with this tensor operations\n",
        "float32_tensor"
      ]
    },
    {
      "cell_type": "code",
      "execution_count": 30,
      "id": "8b920e69",
      "metadata": {
        "colab": {
          "base_uri": "https://localhost:8080/"
        },
        "id": "8b920e69",
        "outputId": "f77738dc-6842-4e94-fad6-ddb0f958f4cb"
      },
      "outputs": [
        {
          "data": {
            "text/plain": [
              "(1, torch.Size([3]), torch.float32)"
            ]
          },
          "execution_count": 30,
          "metadata": {},
          "output_type": "execute_result"
        }
      ],
      "source": [
        "float32_tensor.ndim, float32_tensor.shape, float32_tensor.dtype"
      ]
    },
    {
      "cell_type": "code",
      "execution_count": 31,
      "id": "9eb18b3c",
      "metadata": {
        "colab": {
          "base_uri": "https://localhost:8080/"
        },
        "id": "9eb18b3c",
        "outputId": "a47c2ea6-835d-4306-9e2a-9f24ce81b9c9"
      },
      "outputs": [
        {
          "data": {
            "text/plain": [
              "tensor([3.3301, 6.6992, 9.8906], dtype=torch.float16)"
            ]
          },
          "execution_count": 31,
          "metadata": {},
          "output_type": "execute_result"
        }
      ],
      "source": [
        "# changing datatype of float32_tensor to torch.float16\n",
        "float16_tensor = float32_tensor.type(torch.float16)\n",
        "float16_tensor"
      ]
    },
    {
      "cell_type": "code",
      "execution_count": 32,
      "id": "b7be4cf5",
      "metadata": {
        "colab": {
          "base_uri": "https://localhost:8080/"
        },
        "id": "b7be4cf5",
        "outputId": "e10bd441-3f81-4264-eaa3-70618ec74c06"
      },
      "outputs": [
        {
          "data": {
            "text/plain": [
              "(1, torch.Size([3]), torch.float16)"
            ]
          },
          "execution_count": 32,
          "metadata": {},
          "output_type": "execute_result"
        }
      ],
      "source": [
        "float16_tensor.ndim, float16_tensor.shape, float16_tensor.dtype"
      ]
    },
    {
      "cell_type": "markdown",
      "id": "022965c8",
      "metadata": {
        "id": "022965c8"
      },
      "source": [
        "#### Small Example"
      ]
    },
    {
      "cell_type": "code",
      "execution_count": 33,
      "id": "a8938f35",
      "metadata": {
        "colab": {
          "base_uri": "https://localhost:8080/"
        },
        "id": "a8938f35",
        "outputId": "0d8c6bd6-85fa-4597-dfc8-b8ca55484ebe"
      },
      "outputs": [
        {
          "data": {
            "text/plain": [
              "tensor([ 3.,  7., 21.], dtype=torch.float16)"
            ]
          },
          "execution_count": 33,
          "metadata": {},
          "output_type": "execute_result"
        }
      ],
      "source": [
        "T = torch.tensor([3, 7, 21],\n",
        "                dtype=torch.float16,\n",
        "                device='cpu',\n",
        "                requires_grad=False)\n",
        "T"
      ]
    },
    {
      "cell_type": "code",
      "execution_count": 34,
      "id": "61df617d",
      "metadata": {
        "colab": {
          "base_uri": "https://localhost:8080/"
        },
        "id": "61df617d",
        "outputId": "036acf7b-2384-4137-a5f3-8c7808cd240b"
      },
      "outputs": [
        {
          "data": {
            "text/plain": [
              "tensor([ 3.,  7., 21.], dtype=torch.float64)"
            ]
          },
          "execution_count": 34,
          "metadata": {},
          "output_type": "execute_result"
        }
      ],
      "source": [
        "float64_T = T.type(torch.double)\n",
        "float64_T"
      ]
    },
    {
      "cell_type": "code",
      "execution_count": 35,
      "id": "068f84ca",
      "metadata": {
        "colab": {
          "base_uri": "https://localhost:8080/"
        },
        "id": "068f84ca",
        "outputId": "c7355f10-c025-4614-ddff-ed133cfd6c35"
      },
      "outputs": [
        {
          "data": {
            "text/plain": [
              "tensor([ 3.,  7., 21.])"
            ]
          },
          "execution_count": 35,
          "metadata": {},
          "output_type": "execute_result"
        }
      ],
      "source": [
        "float32_T = float64_T.type(torch.float32)\n",
        "float32_T"
      ]
    },
    {
      "cell_type": "code",
      "execution_count": 36,
      "id": "685a18e6",
      "metadata": {
        "colab": {
          "base_uri": "https://localhost:8080/"
        },
        "id": "685a18e6",
        "outputId": "6605724d-0b5e-4015-8825-717bef4b5357"
      },
      "outputs": [
        {
          "data": {
            "text/plain": [
              "torch.float32"
            ]
          },
          "execution_count": 36,
          "metadata": {},
          "output_type": "execute_result"
        }
      ],
      "source": [
        "float32_T.dtype"
      ]
    },
    {
      "cell_type": "code",
      "execution_count": 37,
      "id": "d171c17d",
      "metadata": {
        "colab": {
          "base_uri": "https://localhost:8080/"
        },
        "id": "d171c17d",
        "outputId": "61670371-bc1a-48c5-aca1-0e637ff75768"
      },
      "outputs": [
        {
          "data": {
            "text/plain": [
              "tensor([  9.,  49., 441.])"
            ]
          },
          "execution_count": 37,
          "metadata": {},
          "output_type": "execute_result"
        }
      ],
      "source": [
        "float32_T * T"
      ]
    },
    {
      "cell_type": "code",
      "execution_count": 38,
      "id": "f8fd5f72",
      "metadata": {
        "colab": {
          "base_uri": "https://localhost:8080/"
        },
        "id": "f8fd5f72",
        "outputId": "452a2b43-5289-4726-ee2d-3f1233cb8504"
      },
      "outputs": [
        {
          "data": {
            "text/plain": [
              "tensor([  9.,  49., 441.], dtype=torch.float64)"
            ]
          },
          "execution_count": 38,
          "metadata": {},
          "output_type": "execute_result"
        }
      ],
      "source": [
        "T * float64_T"
      ]
    },
    {
      "cell_type": "markdown",
      "id": "0acca6a8",
      "metadata": {
        "id": "0acca6a8"
      },
      "source": [
        "## Getting Tensor Attributes"
      ]
    },
    {
      "cell_type": "code",
      "execution_count": 39,
      "id": "818d28a8",
      "metadata": {
        "colab": {
          "base_uri": "https://localhost:8080/"
        },
        "id": "818d28a8",
        "outputId": "e54279c6-bbe9-4e37-86fc-f7f10ac7fa74"
      },
      "outputs": [
        {
          "data": {
            "text/plain": [
              "tensor([[0.4204, 0.0394, 0.2522],\n",
              "        [0.5633, 0.7028, 0.8431],\n",
              "        [0.1710, 0.5146, 0.4063],\n",
              "        [0.1812, 0.2697, 0.5701]])"
            ]
          },
          "execution_count": 39,
          "metadata": {},
          "output_type": "execute_result"
        }
      ],
      "source": [
        "torch_tensor = torch.rand(4, 3)\n",
        "torch_tensor"
      ]
    },
    {
      "cell_type": "code",
      "execution_count": 40,
      "id": "53cbac91",
      "metadata": {
        "colab": {
          "base_uri": "https://localhost:8080/"
        },
        "id": "53cbac91",
        "outputId": "46031757-ceda-432d-eda1-bf71859dccf9"
      },
      "outputs": [
        {
          "name": "stdout",
          "output_type": "stream",
          "text": [
            "Data Type: torch.float32\n",
            "Tensor Shape: torch.Size([4, 3])\n",
            "Device: cpu\n"
          ]
        }
      ],
      "source": [
        "# Finding details about tensor\n",
        "print(f'''Data Type: {torch_tensor.dtype}\n",
        "Tensor Shape: {torch_tensor.shape}\n",
        "Device: {torch_tensor.device}''')"
      ]
    },
    {
      "cell_type": "markdown",
      "id": "16025052",
      "metadata": {
        "id": "16025052"
      },
      "source": [
        "## Manipulating Tensors\n",
        "\n",
        "**Tensor Operations Include:**\n",
        "* Addition\n",
        "* Subtraction\n",
        "* Division\n",
        "* Multiplication (element wise)\n",
        "* Matrix Multiplication"
      ]
    },
    {
      "cell_type": "code",
      "execution_count": 41,
      "id": "6eac93bc",
      "metadata": {
        "id": "6eac93bc"
      },
      "outputs": [],
      "source": [
        "tensor1 = torch.tensor([[3, 6, 9], [12, 15, 18]],\n",
        "                       dtype=torch.float32,\n",
        "                       device='cpu')"
      ]
    },
    {
      "cell_type": "code",
      "execution_count": 42,
      "id": "b23286c9",
      "metadata": {
        "colab": {
          "base_uri": "https://localhost:8080/"
        },
        "id": "b23286c9",
        "outputId": "d8e43094-99ed-4030-a6a9-25bec49621f5"
      },
      "outputs": [
        {
          "data": {
            "text/plain": [
              "tensor([[24., 27., 30.],\n",
              "        [33., 36., 39.]])"
            ]
          },
          "execution_count": 42,
          "metadata": {},
          "output_type": "execute_result"
        }
      ],
      "source": [
        "# Addition tensor.add()\n",
        "tensor1 + 21"
      ]
    },
    {
      "cell_type": "code",
      "execution_count": 43,
      "id": "2ff9ace0",
      "metadata": {
        "colab": {
          "base_uri": "https://localhost:8080/"
        },
        "id": "2ff9ace0",
        "outputId": "309be1ea-a68c-4e66-c997-c63a3b3cbd79"
      },
      "outputs": [
        {
          "data": {
            "text/plain": [
              "tensor([[-7., -4., -1.],\n",
              "        [ 2.,  5.,  8.]])"
            ]
          },
          "execution_count": 43,
          "metadata": {},
          "output_type": "execute_result"
        }
      ],
      "source": [
        "# Subtract tensor.subtract()\n",
        "tensor1 - 10"
      ]
    },
    {
      "cell_type": "code",
      "execution_count": 44,
      "id": "fd5a7dc1",
      "metadata": {
        "colab": {
          "base_uri": "https://localhost:8080/"
        },
        "id": "fd5a7dc1",
        "outputId": "c61e2b74-ae74-469f-e239-b5e742cf5814"
      },
      "outputs": [
        {
          "data": {
            "text/plain": [
              "tensor([[1., 2., 3.],\n",
              "        [4., 5., 6.]])"
            ]
          },
          "execution_count": 44,
          "metadata": {},
          "output_type": "execute_result"
        }
      ],
      "source": [
        "# Division tensor.divide()\n",
        "tensor1 / 3"
      ]
    },
    {
      "cell_type": "code",
      "execution_count": 45,
      "id": "f0589e35",
      "metadata": {
        "colab": {
          "base_uri": "https://localhost:8080/"
        },
        "id": "f0589e35",
        "outputId": "7b66513d-384b-4f89-fbdd-303b965d6a36"
      },
      "outputs": [
        {
          "data": {
            "text/plain": [
              "tensor([[ 30.,  60.,  90.],\n",
              "        [120., 150., 180.]])"
            ]
          },
          "execution_count": 45,
          "metadata": {},
          "output_type": "execute_result"
        }
      ],
      "source": [
        "# Multiply tensor.multiply (element wise)\n",
        "tensor1 * 10"
      ]
    },
    {
      "cell_type": "code",
      "execution_count": 46,
      "id": "0b39876a",
      "metadata": {
        "colab": {
          "base_uri": "https://localhost:8080/"
        },
        "id": "0b39876a",
        "outputId": "d6767bed-9cba-43db-de51-6d6ed0cf58a0"
      },
      "outputs": [
        {
          "data": {
            "text/plain": [
              "tensor([[ 30.,  60.,  90.],\n",
              "        [120., 150., 180.]])"
            ]
          },
          "execution_count": 46,
          "metadata": {},
          "output_type": "execute_result"
        }
      ],
      "source": [
        "torch.multiply(tensor1, 10)"
      ]
    },
    {
      "cell_type": "markdown",
      "id": "d04252fe",
      "metadata": {
        "id": "d04252fe"
      },
      "source": [
        "### Matrix Multiplication\n",
        "Two main ways of performing multiplication in neural networks and deep learning:\n",
        "\n",
        "1. `Element-wise multiplication` **(matrix/tensor * scaler)**\n",
        "2. `Matrix Multiplication (Dot Product)`\n",
        "\n",
        "There are two main rules when performing matrix multiplication need to satisfy:\n",
        "1. **inner dimension must match**\n",
        "*  (3, 2) (2, 3) - will work\n",
        "*  (2, 3) (3, 2) - will work\n",
        "*  (2, 3) (2, 3) - will not work\n",
        "    \n",
        "2. **resulting matriz has the shape of outer dimensions**\n",
        "* (4, 5) @ (5, 4) = (4, 4)\n",
        "* (3, 2) @ (2, 3) = (3, 3)"
      ]
    },
    {
      "cell_type": "code",
      "execution_count": 47,
      "id": "97f8604e",
      "metadata": {
        "colab": {
          "base_uri": "https://localhost:8080/"
        },
        "id": "97f8604e",
        "outputId": "eb6d8ccd-82b9-480d-df33-bf514a71de78"
      },
      "outputs": [
        {
          "data": {
            "text/plain": [
              "tensor([1., 2., 3.])"
            ]
          },
          "execution_count": 47,
          "metadata": {},
          "output_type": "execute_result"
        }
      ],
      "source": [
        "mm_tensor = torch.tensor([1, 2, 3],\n",
        "                        dtype=torch.float32,\n",
        "                        device='cpu',\n",
        "                        requires_grad=False)\n",
        "mm_tensor"
      ]
    },
    {
      "cell_type": "code",
      "execution_count": 48,
      "id": "faf951c7",
      "metadata": {
        "colab": {
          "base_uri": "https://localhost:8080/"
        },
        "id": "faf951c7",
        "outputId": "147994c1-54c9-4795-aa6e-42044dda5e71"
      },
      "outputs": [
        {
          "data": {
            "text/plain": [
              "tensor([1., 4., 9.])"
            ]
          },
          "execution_count": 48,
          "metadata": {},
          "output_type": "execute_result"
        }
      ],
      "source": [
        "# Matrix element-wise multiplication\n",
        "mm_tensor*mm_tensor"
      ]
    },
    {
      "cell_type": "code",
      "execution_count": 49,
      "id": "cb2b2848",
      "metadata": {
        "colab": {
          "base_uri": "https://localhost:8080/"
        },
        "id": "cb2b2848",
        "outputId": "0dff84d0-5d0b-4eae-9d96-804df0a5eb44"
      },
      "outputs": [
        {
          "data": {
            "text/plain": [
              "tensor(14.)"
            ]
          },
          "execution_count": 49,
          "metadata": {},
          "output_type": "execute_result"
        }
      ],
      "source": [
        "# Matrix Multiplication (Dot Product)\n",
        "torch.matmul(mm_tensor, mm_tensor)"
      ]
    },
    {
      "cell_type": "code",
      "execution_count": 50,
      "id": "d6f1ffb9",
      "metadata": {
        "colab": {
          "base_uri": "https://localhost:8080/"
        },
        "id": "d6f1ffb9",
        "outputId": "1e990ef8-2639-4faa-f7c6-b863be96dc04"
      },
      "outputs": [
        {
          "data": {
            "text/plain": [
              "tensor(14.)"
            ]
          },
          "execution_count": 50,
          "metadata": {},
          "output_type": "execute_result"
        }
      ],
      "source": [
        "mm_tensor @ mm_tensor"
      ]
    },
    {
      "cell_type": "markdown",
      "id": "aef49f52",
      "metadata": {
        "id": "aef49f52"
      },
      "source": [
        "#### Seeing the speed difference when using pytorch function and self-made"
      ]
    },
    {
      "cell_type": "code",
      "execution_count": 51,
      "id": "c54d4953",
      "metadata": {
        "colab": {
          "base_uri": "https://localhost:8080/"
        },
        "id": "c54d4953",
        "outputId": "911c2a72-d7dd-4979-9421-5f967ca3fb77"
      },
      "outputs": [
        {
          "name": "stdout",
          "output_type": "stream",
          "text": [
            "tensor(14.)\n",
            "CPU times: user 1.23 ms, sys: 0 ns, total: 1.23 ms\n",
            "Wall time: 1.24 ms\n"
          ]
        }
      ],
      "source": [
        "%%time\n",
        "value=0\n",
        "for i in range(len(mm_tensor)):\n",
        "    value += mm_tensor[i] * mm_tensor[i]\n",
        "print(value)"
      ]
    },
    {
      "cell_type": "code",
      "execution_count": 52,
      "id": "0f6b4ff0",
      "metadata": {
        "colab": {
          "base_uri": "https://localhost:8080/"
        },
        "id": "0f6b4ff0",
        "outputId": "d627793f-192d-43ad-f50c-1bc62835f10c"
      },
      "outputs": [
        {
          "name": "stdout",
          "output_type": "stream",
          "text": [
            "CPU times: user 33 µs, sys: 0 ns, total: 33 µs\n",
            "Wall time: 35.8 µs\n"
          ]
        },
        {
          "data": {
            "text/plain": [
              "tensor(14.)"
            ]
          },
          "execution_count": 52,
          "metadata": {},
          "output_type": "execute_result"
        }
      ],
      "source": [
        "%%time\n",
        "torch.matmul(mm_tensor, mm_tensor)"
      ]
    },
    {
      "cell_type": "code",
      "execution_count": 53,
      "id": "27c6cc24",
      "metadata": {
        "colab": {
          "base_uri": "https://localhost:8080/"
        },
        "id": "27c6cc24",
        "outputId": "dd01b662-3933-4305-b4ae-0762a8a854a0"
      },
      "outputs": [
        {
          "data": {
            "text/plain": [
              "tensor([[1.1505, 1.1786],\n",
              "        [1.4467, 1.1101]])"
            ]
          },
          "execution_count": 53,
          "metadata": {},
          "output_type": "execute_result"
        }
      ],
      "source": [
        "torch.matmul(torch.rand(2, 3), torch.rand(3, 2))"
      ]
    },
    {
      "cell_type": "code",
      "execution_count": 54,
      "id": "afd895d4",
      "metadata": {
        "colab": {
          "base_uri": "https://localhost:8080/"
        },
        "id": "afd895d4",
        "outputId": "4f6a97d5-b9f1-4a7e-da65-ee64142660e0"
      },
      "outputs": [
        {
          "data": {
            "text/plain": [
              "tensor([[1.2461, 1.8847, 0.9137, 0.8483],\n",
              "        [0.7808, 1.5055, 1.5138, 1.1512],\n",
              "        [0.7485, 1.3302, 1.0956, 0.8044],\n",
              "        [1.2017, 1.3437, 0.8272, 0.9161]])"
            ]
          },
          "execution_count": 54,
          "metadata": {},
          "output_type": "execute_result"
        }
      ],
      "source": [
        "torch.matmul(torch.rand(4, 5), torch.rand(5, 4))"
      ]
    },
    {
      "cell_type": "code",
      "execution_count": 55,
      "id": "ebb190ee",
      "metadata": {
        "colab": {
          "base_uri": "https://localhost:8080/"
        },
        "id": "ebb190ee",
        "outputId": "3ebc5356-f157-4b0d-d3c8-d790e99d5f14"
      },
      "outputs": [
        {
          "data": {
            "text/plain": [
              "tensor([[0.4196, 0.3812, 0.1126],\n",
              "        [0.5265, 0.5096, 0.2385],\n",
              "        [0.3174, 0.2932, 0.1003]])"
            ]
          },
          "execution_count": 55,
          "metadata": {},
          "output_type": "execute_result"
        }
      ],
      "source": [
        "torch.matmul(torch.rand(3, 2), torch.rand(2, 3))"
      ]
    },
    {
      "cell_type": "code",
      "execution_count": 56,
      "id": "310dd96d",
      "metadata": {
        "colab": {
          "base_uri": "https://localhost:8080/"
        },
        "id": "310dd96d",
        "outputId": "21403dee-c141-40b8-c15e-043089381325"
      },
      "outputs": [
        {
          "data": {
            "text/plain": [
              "tensor([[0.8214, 0.5890, 0.2822, 0.7702, 0.4312],\n",
              "        [1.2285, 0.9018, 0.4163, 1.1420, 0.6495],\n",
              "        [0.8428, 0.5506, 0.3045, 0.8158, 0.4308],\n",
              "        [0.5076, 0.3595, 0.1756, 0.4781, 0.2655]])"
            ]
          },
          "execution_count": 56,
          "metadata": {},
          "output_type": "execute_result"
        }
      ],
      "source": [
        "torch.matmul(torch.rand(4, 2), torch.rand(2, 5))"
      ]
    },
    {
      "cell_type": "markdown",
      "id": "231845a2",
      "metadata": {
        "id": "231845a2"
      },
      "source": [
        "## One of the most common errors: Shape error"
      ]
    },
    {
      "cell_type": "code",
      "execution_count": 57,
      "id": "b310e887",
      "metadata": {
        "id": "b310e887"
      },
      "outputs": [],
      "source": [
        "tensorA = torch.tensor([[1, 2],\n",
        "                        [3, 4],\n",
        "                        [5, 6]],\n",
        "                      dtype=torch.float32,\n",
        "                      device='cpu')\n",
        "\n",
        "tensorB = torch.tensor([[7, 10],\n",
        "                        [8, 11],\n",
        "                        [9, 12]],\n",
        "                      dtype=torch.float32,\n",
        "                      device='cpu')\n",
        "\n",
        "# torch.mm() is same as torch.matmul()"
      ]
    },
    {
      "cell_type": "code",
      "execution_count": 58,
      "id": "7a83f84a",
      "metadata": {
        "colab": {
          "base_uri": "https://localhost:8080/"
        },
        "id": "7a83f84a",
        "outputId": "9925c91c-fee7-43a8-8acf-eab28fa508f3"
      },
      "outputs": [
        {
          "data": {
            "text/plain": [
              "(torch.Size([3, 2]), torch.Size([3, 2]))"
            ]
          },
          "execution_count": 58,
          "metadata": {},
          "output_type": "execute_result"
        }
      ],
      "source": [
        "tensorA.shape, tensorB.shape"
      ]
    },
    {
      "cell_type": "code",
      "execution_count": 59,
      "id": "c0f3c808",
      "metadata": {
        "colab": {
          "base_uri": "https://localhost:8080/"
        },
        "id": "c0f3c808",
        "outputId": "a4692c53-3312-49bd-b9a4-737a7cd70c23"
      },
      "outputs": [
        {
          "data": {
            "text/plain": [
              "(torch.Size([2, 3]), torch.Size([3, 2]))"
            ]
          },
          "execution_count": 59,
          "metadata": {},
          "output_type": "execute_result"
        }
      ],
      "source": [
        "tensorA.T.shape, tensorB.shape"
      ]
    },
    {
      "cell_type": "code",
      "execution_count": 60,
      "id": "868fc57e",
      "metadata": {
        "colab": {
          "base_uri": "https://localhost:8080/"
        },
        "id": "868fc57e",
        "outputId": "2c96ac62-2c32-4e27-8845-83b59922bb4e"
      },
      "outputs": [
        {
          "data": {
            "text/plain": [
              "(tensor([[1., 2.],\n",
              "         [3., 4.],\n",
              "         [5., 6.]]),\n",
              " tensor([[1., 3., 5.],\n",
              "         [2., 4., 6.]]))"
            ]
          },
          "execution_count": 60,
          "metadata": {},
          "output_type": "execute_result"
        }
      ],
      "source": [
        "tensorA, tensorA.T"
      ]
    },
    {
      "cell_type": "code",
      "execution_count": 61,
      "id": "0346ed71",
      "metadata": {
        "colab": {
          "base_uri": "https://localhost:8080/"
        },
        "id": "0346ed71",
        "outputId": "cf311d44-faad-4b61-f655-22a3f98e1618"
      },
      "outputs": [
        {
          "data": {
            "text/plain": [
              "(tensor([[1., 3., 5.],\n",
              "         [2., 4., 6.]]),\n",
              " tensor([[ 7., 10.],\n",
              "         [ 8., 11.],\n",
              "         [ 9., 12.]]))"
            ]
          },
          "execution_count": 61,
          "metadata": {},
          "output_type": "execute_result"
        }
      ],
      "source": [
        "tensorA.T, tensorB"
      ]
    },
    {
      "cell_type": "code",
      "execution_count": 62,
      "id": "0fe3abfa",
      "metadata": {
        "colab": {
          "base_uri": "https://localhost:8080/"
        },
        "id": "0fe3abfa",
        "outputId": "0c28c524-ed19-4060-b79a-2d461f03593f"
      },
      "outputs": [
        {
          "data": {
            "text/plain": [
              "tensor([[ 76., 103.],\n",
              "        [100., 136.]])"
            ]
          },
          "execution_count": 62,
          "metadata": {},
          "output_type": "execute_result"
        }
      ],
      "source": [
        "torch.matmul(tensorA.T, tensorB)"
      ]
    },
    {
      "cell_type": "code",
      "execution_count": 63,
      "id": "777604a4",
      "metadata": {
        "colab": {
          "base_uri": "https://localhost:8080/"
        },
        "id": "777604a4",
        "outputId": "563fd902-bad0-4bc8-8296-f6716b0bc834"
      },
      "outputs": [
        {
          "data": {
            "text/plain": [
              "tensor([[ 27.,  30.,  33.],\n",
              "        [ 61.,  68.,  75.],\n",
              "        [ 95., 106., 117.]])"
            ]
          },
          "execution_count": 63,
          "metadata": {},
          "output_type": "execute_result"
        }
      ],
      "source": [
        "torch.matmul(tensorA, tensorB.T)"
      ]
    },
    {
      "cell_type": "markdown",
      "id": "75972b9a",
      "metadata": {
        "id": "75972b9a"
      },
      "source": [
        "## Tensor Aggregation\n",
        "* Finding Max and Min of tensors\n",
        "* Find the mean of tensor\n",
        "* Sum of tensors"
      ]
    },
    {
      "cell_type": "code",
      "execution_count": 64,
      "id": "e9955d51",
      "metadata": {
        "colab": {
          "base_uri": "https://localhost:8080/"
        },
        "id": "e9955d51",
        "outputId": "9266d19c-25e7-4034-b9f6-a8754f1755d0"
      },
      "outputs": [
        {
          "data": {
            "text/plain": [
              "tensor([ 0,  5, 10, 15, 20, 25, 30, 35, 40, 45, 50, 55, 60, 65, 70, 75, 80, 85,\n",
              "        90, 95])"
            ]
          },
          "execution_count": 64,
          "metadata": {},
          "output_type": "execute_result"
        }
      ],
      "source": [
        "# create a tensor\n",
        "x = torch.arange(0, 100, 5)\n",
        "x"
      ]
    },
    {
      "cell_type": "code",
      "execution_count": 65,
      "id": "e8df2d8b",
      "metadata": {
        "colab": {
          "base_uri": "https://localhost:8080/"
        },
        "id": "e8df2d8b",
        "outputId": "59700824-4e4e-4cbb-ab7f-3a1a399eaef5"
      },
      "outputs": [
        {
          "data": {
            "text/plain": [
              "(tensor(0), tensor(0))"
            ]
          },
          "execution_count": 65,
          "metadata": {},
          "output_type": "execute_result"
        }
      ],
      "source": [
        "# Find the min\n",
        "torch.min(x), x.min()"
      ]
    },
    {
      "cell_type": "code",
      "execution_count": 66,
      "id": "31d34f92",
      "metadata": {
        "colab": {
          "base_uri": "https://localhost:8080/"
        },
        "id": "31d34f92",
        "outputId": "0d7a85a5-cff3-4a6e-8928-7b766f33446c"
      },
      "outputs": [
        {
          "data": {
            "text/plain": [
              "(tensor(95), tensor(95))"
            ]
          },
          "execution_count": 66,
          "metadata": {},
          "output_type": "execute_result"
        }
      ],
      "source": [
        "# Find the max\n",
        "torch.max(x), x.max()"
      ]
    },
    {
      "cell_type": "code",
      "execution_count": 67,
      "id": "cd761439",
      "metadata": {
        "colab": {
          "base_uri": "https://localhost:8080/"
        },
        "id": "cd761439",
        "outputId": "6478fe52-99da-410e-e5ad-c5f9e9c6092d"
      },
      "outputs": [
        {
          "data": {
            "text/plain": [
              "(tensor(47.5000), tensor(47.5000))"
            ]
          },
          "execution_count": 67,
          "metadata": {},
          "output_type": "execute_result"
        }
      ],
      "source": [
        "# Find the average\n",
        "torch.mean(x.type(torch.float32)), x.type(torch.float32).mean()"
      ]
    },
    {
      "cell_type": "code",
      "execution_count": 68,
      "id": "3cb0b0ee",
      "metadata": {
        "colab": {
          "base_uri": "https://localhost:8080/"
        },
        "id": "3cb0b0ee",
        "outputId": "c97e7113-1d6d-4888-d1aa-496f55a590d1"
      },
      "outputs": [
        {
          "data": {
            "text/plain": [
              "(tensor(950), tensor(950))"
            ]
          },
          "execution_count": 68,
          "metadata": {},
          "output_type": "execute_result"
        }
      ],
      "source": [
        "# Find the total sum of tensors\n",
        "torch.sum(x), x.sum()"
      ]
    },
    {
      "cell_type": "markdown",
      "id": "efbbac11",
      "metadata": {
        "id": "efbbac11"
      },
      "source": [
        "## Finding the Positional Max and Min of Tensor"
      ]
    },
    {
      "cell_type": "code",
      "execution_count": 69,
      "id": "942695c7",
      "metadata": {
        "colab": {
          "base_uri": "https://localhost:8080/"
        },
        "id": "942695c7",
        "outputId": "eaecdb27-e45d-413a-ddf8-445c1bfb6ca9"
      },
      "outputs": [
        {
          "data": {
            "text/plain": [
              "tensor([ 25,  50,  75, 100, 125, 150, 175, 200, 225])"
            ]
          },
          "execution_count": 69,
          "metadata": {},
          "output_type": "execute_result"
        }
      ],
      "source": [
        "y = torch.arange(25, 250, 25)\n",
        "y"
      ]
    },
    {
      "cell_type": "code",
      "execution_count": 70,
      "id": "1eb7ac03",
      "metadata": {
        "colab": {
          "base_uri": "https://localhost:8080/"
        },
        "id": "1eb7ac03",
        "outputId": "5abbfbb5-99e7-48a8-cbe9-32013d2571f4"
      },
      "outputs": [
        {
          "data": {
            "text/plain": [
              "tensor(0)"
            ]
          },
          "execution_count": 70,
          "metadata": {},
          "output_type": "execute_result"
        }
      ],
      "source": [
        "# Find the positional min of tensor\n",
        "torch.argmin(y)"
      ]
    },
    {
      "cell_type": "code",
      "execution_count": 71,
      "id": "e1832b3e",
      "metadata": {
        "colab": {
          "base_uri": "https://localhost:8080/"
        },
        "id": "e1832b3e",
        "outputId": "95d543c9-94f1-4923-b78c-fc09c797fa11"
      },
      "outputs": [
        {
          "data": {
            "text/plain": [
              "tensor(8)"
            ]
          },
          "execution_count": 71,
          "metadata": {},
          "output_type": "execute_result"
        }
      ],
      "source": [
        "# Find the positional max of tensor\n",
        "torch.argmax(y)"
      ]
    },
    {
      "cell_type": "markdown",
      "id": "dad18ad8",
      "metadata": {
        "id": "dad18ad8"
      },
      "source": [
        "## Reshaping, Stacking, squeezing and unsqueezing tensors\n",
        "\n",
        "* `Reshape` - reshapes an input tensor to a defined shape\n",
        "* `View` - returns view of input tensor of certain shape, but keeps the samee memory as the original tensor\n",
        "* `Stacking` - combine multiple tensors on top of each other. They are of two types: (V-STACK) Vertical stack and (H-STACK) Horizontal Stack\n",
        "* `Squeeze` - remove `1` dimensions from a tensor\n",
        "* `Unsqueeze` - add an extra `1` dimension to tensor\n",
        "* `Permute`- Return a view of the input tensor with dimensions permuted (swapped)"
      ]
    },
    {
      "cell_type": "code",
      "execution_count": 72,
      "id": "1b00ffb1",
      "metadata": {
        "colab": {
          "base_uri": "https://localhost:8080/"
        },
        "id": "1b00ffb1",
        "outputId": "a2a28400-cc54-4397-db5e-fb739eec9474"
      },
      "outputs": [
        {
          "data": {
            "text/plain": [
              "(tensor([ 1,  2,  3,  4,  5,  6,  7,  8,  9, 10]), torch.Size([10]))"
            ]
          },
          "execution_count": 72,
          "metadata": {},
          "output_type": "execute_result"
        }
      ],
      "source": [
        "# create a tensor\n",
        "import torch\n",
        "z = torch.arange(1, 11, 1)\n",
        "z, z.shape"
      ]
    },
    {
      "cell_type": "code",
      "execution_count": 73,
      "id": "ff413aa8",
      "metadata": {
        "colab": {
          "base_uri": "https://localhost:8080/"
        },
        "id": "ff413aa8",
        "outputId": "bbb33642-57de-4c73-e0c2-bbad948ca00b"
      },
      "outputs": [
        {
          "data": {
            "text/plain": [
              "(tensor([[ 1,  2,  3,  4,  5,  6,  7,  8,  9, 10]]), torch.Size([1, 10]))"
            ]
          },
          "execution_count": 73,
          "metadata": {},
          "output_type": "execute_result"
        }
      ],
      "source": [
        "# Reshaping - adding an extra dimension\n",
        "z_reshaped  = z.reshape(1, 10)\n",
        "z_reshaped, z_reshaped.shape"
      ]
    },
    {
      "cell_type": "code",
      "execution_count": 74,
      "id": "1556676d",
      "metadata": {
        "colab": {
          "base_uri": "https://localhost:8080/"
        },
        "id": "1556676d",
        "outputId": "4e016799-0476-4b65-8f63-719c755af403"
      },
      "outputs": [
        {
          "data": {
            "text/plain": [
              "(tensor([[ 1,  2,  3,  4,  5,  6,  7,  8,  9, 10]]), torch.Size([1, 10]))"
            ]
          },
          "execution_count": 74,
          "metadata": {},
          "output_type": "execute_result"
        }
      ],
      "source": [
        "# change the view\n",
        "z_view = z.view(1, 10)\n",
        "z_view, z_view.shape"
      ]
    },
    {
      "cell_type": "code",
      "execution_count": 75,
      "id": "fb908be7",
      "metadata": {
        "colab": {
          "base_uri": "https://localhost:8080/"
        },
        "id": "fb908be7",
        "outputId": "e4a00a5b-735b-4d44-ed15-c998cb45fdf2"
      },
      "outputs": [
        {
          "data": {
            "text/plain": [
              "(tensor([[[ 1,  2,  3,  4,  5,  6,  7,  8,  9, 10],\n",
              "          [ 1,  2,  3,  4,  5,  6,  7,  8,  9, 10]]]),\n",
              " torch.Size([1, 2, 10]))"
            ]
          },
          "execution_count": 75,
          "metadata": {},
          "output_type": "execute_result"
        }
      ],
      "source": [
        "# stacking tensors\n",
        "z_stack = torch.stack([z_reshaped, z_view], dim=1)\n",
        "z_stack, z_stack.shape"
      ]
    },
    {
      "cell_type": "code",
      "execution_count": 76,
      "id": "984f6f1b",
      "metadata": {
        "colab": {
          "base_uri": "https://localhost:8080/"
        },
        "id": "984f6f1b",
        "outputId": "1452ea14-161d-4f54-8d0e-978f1e488f4b"
      },
      "outputs": [
        {
          "data": {
            "text/plain": [
              "(tensor([ 1,  2,  3,  4,  5,  6,  7,  8,  9, 10]), torch.Size([10]))"
            ]
          },
          "execution_count": 76,
          "metadata": {},
          "output_type": "execute_result"
        }
      ],
      "source": [
        "# squeezing\n",
        "squeezed_z = torch.squeeze(z_reshaped)\n",
        "squeezed_z, squeezed_z.shape"
      ]
    },
    {
      "cell_type": "code",
      "execution_count": 77,
      "id": "28aece3a",
      "metadata": {
        "colab": {
          "base_uri": "https://localhost:8080/"
        },
        "id": "28aece3a",
        "outputId": "19aee1b3-ae38-436f-e84f-4b55108dd1fe"
      },
      "outputs": [
        {
          "data": {
            "text/plain": [
              "(tensor([[ 1],\n",
              "         [ 2],\n",
              "         [ 3],\n",
              "         [ 4],\n",
              "         [ 5],\n",
              "         [ 6],\n",
              "         [ 7],\n",
              "         [ 8],\n",
              "         [ 9],\n",
              "         [10]]),\n",
              " torch.Size([10, 1]))"
            ]
          },
          "execution_count": 77,
          "metadata": {},
          "output_type": "execute_result"
        }
      ],
      "source": [
        "# unsqueezing\n",
        "unsqueezed_z = torch.unsqueeze(squeezed_z, dim=1)\n",
        "unsqueezed_z, unsqueezed_z.shape"
      ]
    },
    {
      "cell_type": "code",
      "execution_count": 78,
      "id": "c34e010e",
      "metadata": {
        "colab": {
          "base_uri": "https://localhost:8080/"
        },
        "id": "c34e010e",
        "outputId": "6c4483da-b232-44c3-df8d-43ecf7589623"
      },
      "outputs": [
        {
          "name": "stdout",
          "output_type": "stream",
          "text": [
            "Original Tensor shape: torch.Size([224, 224, 3])\n",
            "Permuted Tensor shape: torch.Size([3, 224, 224])\n"
          ]
        },
        {
          "data": {
            "text/plain": [
              "(tensor([[[0.1767, 0.9822, 0.1077,  ..., 0.0734, 0.0638, 0.7550],\n",
              "          [0.8828, 0.3510, 0.9742,  ..., 0.9166, 0.9194, 0.1381],\n",
              "          [0.0168, 0.6420, 0.1096,  ..., 0.9562, 0.3234, 0.4438],\n",
              "          ...,\n",
              "          [0.4201, 0.1521, 0.5683,  ..., 0.7596, 0.3514, 0.0109],\n",
              "          [0.9325, 0.4991, 0.1867,  ..., 0.2666, 0.9977, 0.2131],\n",
              "          [0.9325, 0.2536, 0.1518,  ..., 0.2489, 0.4807, 0.5433]],\n",
              " \n",
              "         [[0.9474, 0.6854, 0.6510,  ..., 0.5526, 0.3636, 0.3195],\n",
              "          [0.9166, 0.1710, 0.2241,  ..., 0.4826, 0.5288, 0.7274],\n",
              "          [0.4132, 0.1850, 0.6428,  ..., 0.4006, 0.7185, 0.3856],\n",
              "          ...,\n",
              "          [0.8087, 0.6939, 0.7035,  ..., 0.1112, 0.1988, 0.8914],\n",
              "          [0.7629, 0.2951, 0.5583,  ..., 0.3026, 0.9162, 0.6106],\n",
              "          [0.2469, 0.7212, 0.9189,  ..., 0.6685, 0.8640, 0.5376]],\n",
              " \n",
              "         [[0.7457, 0.0466, 0.6028,  ..., 0.7527, 0.2538, 0.0944],\n",
              "          [0.6881, 0.1700, 0.4171,  ..., 0.0509, 0.2728, 0.1978],\n",
              "          [0.5733, 0.1491, 0.5246,  ..., 0.4076, 0.0036, 0.3845],\n",
              "          ...,\n",
              "          [0.6566, 0.6206, 0.0115,  ..., 0.0494, 0.4516, 0.0017],\n",
              "          [0.4610, 0.2331, 0.4111,  ..., 0.3775, 0.9952, 0.3890],\n",
              "          [0.8528, 0.0044, 0.6617,  ..., 0.6672, 0.5166, 0.9369]]]),\n",
              " torch.Size([3, 224, 224]))"
            ]
          },
          "execution_count": 78,
          "metadata": {},
          "output_type": "execute_result"
        }
      ],
      "source": [
        "# Permuting\n",
        "img_tensor = torch.rand((224, 224, 3)) # height,width,color-channel\n",
        "print(f'Original Tensor shape: {img_tensor.shape}')\n",
        "\n",
        "permuted_tensor = torch.permute(img_tensor, (2, 0, 1))\n",
        "print(f'Permuted Tensor shape: {permuted_tensor.shape}')\n",
        "permuted_tensor, permuted_tensor.shape"
      ]
    },
    {
      "cell_type": "markdown",
      "id": "ac77a8a7",
      "metadata": {
        "id": "ac77a8a7"
      },
      "source": [
        "#### change in img_tensor (original) will make a change in the permuted of that tensor as well"
      ]
    },
    {
      "cell_type": "code",
      "execution_count": 79,
      "id": "d94ba8ed",
      "metadata": {
        "colab": {
          "base_uri": "https://localhost:8080/"
        },
        "id": "d94ba8ed",
        "outputId": "f3bb9585-d07f-4007-9762-f84905890225"
      },
      "outputs": [
        {
          "data": {
            "text/plain": [
              "(tensor(9397.), tensor(9397.))"
            ]
          },
          "execution_count": 79,
          "metadata": {},
          "output_type": "execute_result"
        }
      ],
      "source": [
        "img_tensor[0, 0, 0] = 9397\n",
        "img_tensor[0, 0, 0], permuted_tensor[0, 0, 0]"
      ]
    },
    {
      "cell_type": "markdown",
      "id": "962ddbd2",
      "metadata": {
        "id": "962ddbd2"
      },
      "source": [
        "## Indexing (selecting data from tensors)\n",
        "* Indexing with `Pytorch` is similar in `NumPy`"
      ]
    },
    {
      "cell_type": "code",
      "execution_count": 80,
      "id": "c728d4d2",
      "metadata": {
        "colab": {
          "base_uri": "https://localhost:8080/"
        },
        "id": "c728d4d2",
        "outputId": "17c2b4b5-d538-4ff8-a4dd-1d868248b8fa"
      },
      "outputs": [
        {
          "data": {
            "text/plain": [
              "(tensor([ 1,  2,  3,  4,  5,  6,  7,  8,  9, 10]), torch.Size([10]))"
            ]
          },
          "execution_count": 80,
          "metadata": {},
          "output_type": "execute_result"
        }
      ],
      "source": [
        "a = torch.arange(1, 11, 1)\n",
        "a, a.shape"
      ]
    },
    {
      "cell_type": "code",
      "execution_count": 81,
      "id": "53adbafe",
      "metadata": {
        "colab": {
          "base_uri": "https://localhost:8080/"
        },
        "id": "53adbafe",
        "outputId": "8864daad-09d4-4597-d663-50b33ec5cb35"
      },
      "outputs": [
        {
          "data": {
            "text/plain": [
              "(tensor([[[ 1,  2,  3,  4,  5],\n",
              "          [ 6,  7,  8,  9, 10]]]),\n",
              " torch.Size([1, 2, 5]))"
            ]
          },
          "execution_count": 81,
          "metadata": {},
          "output_type": "execute_result"
        }
      ],
      "source": [
        "a = a.reshape(1, 2, 5)\n",
        "a, a.shape"
      ]
    },
    {
      "cell_type": "code",
      "execution_count": 82,
      "id": "dcc772bf",
      "metadata": {
        "colab": {
          "base_uri": "https://localhost:8080/"
        },
        "id": "dcc772bf",
        "outputId": "89a54292-bb4b-404e-d22e-ab41fe02fc79"
      },
      "outputs": [
        {
          "data": {
            "text/plain": [
              "tensor([[ 1,  2,  3,  4,  5],\n",
              "        [ 6,  7,  8,  9, 10]])"
            ]
          },
          "execution_count": 82,
          "metadata": {},
          "output_type": "execute_result"
        }
      ],
      "source": [
        "a[0]"
      ]
    },
    {
      "cell_type": "code",
      "execution_count": 83,
      "id": "c9202253",
      "metadata": {
        "colab": {
          "base_uri": "https://localhost:8080/"
        },
        "id": "c9202253",
        "outputId": "d4ad2239-6b31-4d88-c4a3-ce9a819d7120"
      },
      "outputs": [
        {
          "data": {
            "text/plain": [
              "tensor([ 6,  7,  8,  9, 10])"
            ]
          },
          "execution_count": 83,
          "metadata": {},
          "output_type": "execute_result"
        }
      ],
      "source": [
        "a[0][1]"
      ]
    },
    {
      "cell_type": "code",
      "execution_count": 84,
      "id": "012a294e",
      "metadata": {
        "colab": {
          "base_uri": "https://localhost:8080/"
        },
        "id": "012a294e",
        "outputId": "ef6f4935-b0ae-4889-bcae-c29ebc8d0d3e"
      },
      "outputs": [
        {
          "data": {
            "text/plain": [
              "tensor(3)"
            ]
          },
          "execution_count": 84,
          "metadata": {},
          "output_type": "execute_result"
        }
      ],
      "source": [
        "a[0][0][2]"
      ]
    },
    {
      "cell_type": "code",
      "execution_count": 85,
      "id": "8adb1845",
      "metadata": {
        "colab": {
          "base_uri": "https://localhost:8080/"
        },
        "id": "8adb1845",
        "outputId": "f716cf2f-8882-4738-e5a9-a2955bcb962a"
      },
      "outputs": [
        {
          "data": {
            "text/plain": [
              "tensor(10)"
            ]
          },
          "execution_count": 85,
          "metadata": {},
          "output_type": "execute_result"
        }
      ],
      "source": [
        "a[0][1][4]"
      ]
    },
    {
      "cell_type": "code",
      "execution_count": 86,
      "id": "308f01ee",
      "metadata": {
        "colab": {
          "base_uri": "https://localhost:8080/"
        },
        "id": "308f01ee",
        "outputId": "2a15c7f0-a246-407e-9a03-280714569928"
      },
      "outputs": [
        {
          "data": {
            "text/plain": [
              "tensor(9)"
            ]
          },
          "execution_count": 86,
          "metadata": {},
          "output_type": "execute_result"
        }
      ],
      "source": [
        "a[0][1][3]"
      ]
    },
    {
      "cell_type": "code",
      "execution_count": 87,
      "id": "31f79310",
      "metadata": {
        "colab": {
          "base_uri": "https://localhost:8080/"
        },
        "id": "31f79310",
        "outputId": "79e248d9-7c5e-4551-d53c-2a03a8f5c102"
      },
      "outputs": [
        {
          "data": {
            "text/plain": [
              "(tensor([[1, 2, 3, 4, 5]]), tensor([[ 6,  7,  8,  9, 10]]))"
            ]
          },
          "execution_count": 87,
          "metadata": {},
          "output_type": "execute_result"
        }
      ],
      "source": [
        "a[:, 0], a[:, 1]"
      ]
    },
    {
      "cell_type": "code",
      "execution_count": 88,
      "id": "95af2567",
      "metadata": {
        "colab": {
          "base_uri": "https://localhost:8080/"
        },
        "id": "95af2567",
        "outputId": "9c4f026c-5a6e-46c3-a741-d551841691be"
      },
      "outputs": [
        {
          "data": {
            "text/plain": [
              "tensor([[ 5, 10]])"
            ]
          },
          "execution_count": 88,
          "metadata": {},
          "output_type": "execute_result"
        }
      ],
      "source": [
        "a[:, :, 4] # Taking the 4th element in both the axes"
      ]
    },
    {
      "cell_type": "code",
      "execution_count": 89,
      "id": "e0867abe",
      "metadata": {
        "colab": {
          "base_uri": "https://localhost:8080/"
        },
        "id": "e0867abe",
        "outputId": "442677c2-edd7-4ab8-f718-b7f33a7c7f85"
      },
      "outputs": [
        {
          "data": {
            "text/plain": [
              "tensor([8])"
            ]
          },
          "execution_count": 89,
          "metadata": {},
          "output_type": "execute_result"
        }
      ],
      "source": [
        "a[:, 1, 2]"
      ]
    },
    {
      "cell_type": "code",
      "execution_count": 90,
      "id": "6cb69deb",
      "metadata": {
        "colab": {
          "base_uri": "https://localhost:8080/"
        },
        "id": "6cb69deb",
        "outputId": "f9e091ee-5d6e-43d4-cff9-a3a8aea87c1d"
      },
      "outputs": [
        {
          "data": {
            "text/plain": [
              "tensor([1, 2, 3, 4, 5])"
            ]
          },
          "execution_count": 90,
          "metadata": {},
          "output_type": "execute_result"
        }
      ],
      "source": [
        "a[0, 0, :]"
      ]
    },
    {
      "cell_type": "code",
      "execution_count": 91,
      "id": "8b0af582",
      "metadata": {
        "colab": {
          "base_uri": "https://localhost:8080/"
        },
        "id": "8b0af582",
        "outputId": "92bcf763-4716-4685-b082-92a7a9dc3183"
      },
      "outputs": [
        {
          "data": {
            "text/plain": [
              "tensor([[ 5, 10]])"
            ]
          },
          "execution_count": 91,
          "metadata": {},
          "output_type": "execute_result"
        }
      ],
      "source": [
        "a[:, :, 4]"
      ]
    },
    {
      "cell_type": "markdown",
      "id": "eb280a5c",
      "metadata": {
        "id": "eb280a5c"
      },
      "source": [
        "## Pytorch tensors and Numpy\n",
        "Pytorch allows us to convert pytorch tensors to numpy\n",
        "\n",
        "* Converting Numpy to Pytorch -`torch.from_numpy(ndarray)`\n",
        "* Pytorch Tensor to Numpy - `torch.Tensor.numpy()`"
      ]
    },
    {
      "cell_type": "code",
      "execution_count": 92,
      "id": "46618446",
      "metadata": {
        "colab": {
          "base_uri": "https://localhost:8080/"
        },
        "id": "46618446",
        "outputId": "41d8a8bc-4980-4220-a236-d7ea83550079"
      },
      "outputs": [
        {
          "data": {
            "text/plain": [
              "(array([1., 2., 3., 4., 5., 6., 7.]), tensor([1., 2., 3., 4., 5., 6., 7.]))"
            ]
          },
          "execution_count": 92,
          "metadata": {},
          "output_type": "execute_result"
        }
      ],
      "source": [
        "# numpy array to tensor\n",
        "array= np.arange(1.0, 8.0)\n",
        "tensor = torch.from_numpy(array).type(torch.float32)\n",
        "array, tensor"
      ]
    },
    {
      "cell_type": "code",
      "execution_count": 93,
      "id": "f8562611",
      "metadata": {
        "colab": {
          "base_uri": "https://localhost:8080/"
        },
        "id": "f8562611",
        "outputId": "ee6437c5-a4f9-4edd-eb52-0ef75bbdc375"
      },
      "outputs": [
        {
          "data": {
            "text/plain": [
              "array([1., 2., 3., 4., 5., 6., 7.], dtype=float32)"
            ]
          },
          "execution_count": 93,
          "metadata": {},
          "output_type": "execute_result"
        }
      ],
      "source": [
        "# torch tensor to numpy\n",
        "tensor_numpy = tensor.numpy()\n",
        "tensor_numpy"
      ]
    },
    {
      "cell_type": "markdown",
      "id": "4b4fb0f8",
      "metadata": {
        "id": "4b4fb0f8"
      },
      "source": [
        "## Reproducibility\n",
        "\n",
        "To reduce the randomness in neural networks and Pytorch comes the concept of a **random seed**\n",
        "\n",
        "* **Random Seed:** Sets the amount of randomness to be made, essentially adds the flavour to randomness"
      ]
    },
    {
      "cell_type": "code",
      "execution_count": 94,
      "id": "e8320341",
      "metadata": {
        "colab": {
          "base_uri": "https://localhost:8080/"
        },
        "id": "e8320341",
        "outputId": "b4c2c97c-e579-46a2-ad2c-ebe81279c258"
      },
      "outputs": [
        {
          "name": "stdout",
          "output_type": "stream",
          "text": [
            "tensor([[0.7388, 0.5418, 0.9909, 0.6170],\n",
            "        [0.5730, 0.1509, 0.9922, 0.3269],\n",
            "        [0.0953, 0.0582, 0.1823, 0.9606]])\n",
            "tensor([[0.6368, 0.5211, 0.6124, 0.1258],\n",
            "        [0.0797, 0.9689, 0.5021, 0.0937],\n",
            "        [0.9492, 0.5614, 0.5286, 0.9241]])\n",
            "tensor([[False, False, False, False],\n",
            "        [False, False, False, False],\n",
            "        [False, False, False, False]])\n"
          ]
        }
      ],
      "source": [
        "import torch\n",
        "\n",
        "random_a = torch.rand((3, 4))\n",
        "random_b = torch.rand((3, 4))\n",
        "\n",
        "print(random_a)\n",
        "print(random_b)\n",
        "\n",
        "print(random_a == random_b)"
      ]
    },
    {
      "cell_type": "code",
      "execution_count": 95,
      "id": "f6fd329c",
      "metadata": {
        "colab": {
          "base_uri": "https://localhost:8080/"
        },
        "id": "f6fd329c",
        "outputId": "01df8eba-bc71-464d-8679-d6abeb9dc80b"
      },
      "outputs": [
        {
          "name": "stdout",
          "output_type": "stream",
          "text": [
            "tensor([[0.8823, 0.9150, 0.3829, 0.9593],\n",
            "        [0.3904, 0.6009, 0.2566, 0.7936],\n",
            "        [0.9408, 0.1332, 0.9346, 0.5936]])\n",
            "tensor([[0.8823, 0.9150, 0.3829, 0.9593],\n",
            "        [0.3904, 0.6009, 0.2566, 0.7936],\n",
            "        [0.9408, 0.1332, 0.9346, 0.5936]])\n",
            "tensor([[True, True, True, True],\n",
            "        [True, True, True, True],\n",
            "        [True, True, True, True]])\n"
          ]
        }
      ],
      "source": [
        "# lets make some random but reproducible tensors\n",
        "import torch\n",
        "\n",
        "# ser the random seed\n",
        "RANDOM_SEED = 42\n",
        "\n",
        "torch.manual_seed(RANDOM_SEED)\n",
        "random_C = torch.rand((3, 4))\n",
        "\n",
        "torch.manual_seed(RANDOM_SEED)\n",
        "random_D = torch.rand((3, 4))\n",
        "\n",
        "print(random_C)\n",
        "print(random_D)\n",
        "print(random_C == random_D)"
      ]
    },
    {
      "cell_type": "markdown",
      "id": "00567dce",
      "metadata": {
        "id": "00567dce"
      },
      "source": [
        "## Running tensors and PyTorch objects on the GPU's (and making faster computations)\n",
        "\n",
        "\n",
        "Check for GPU access with Pytorch:"
      ]
    },
    {
      "cell_type": "code",
      "execution_count": 96,
      "id": "75d59e73",
      "metadata": {
        "colab": {
          "base_uri": "https://localhost:8080/"
        },
        "id": "75d59e73",
        "outputId": "b34fe756-3276-4ce3-b6d4-ceeadc664f28"
      },
      "outputs": [
        {
          "data": {
            "text/plain": [
              "True"
            ]
          },
          "execution_count": 96,
          "metadata": {},
          "output_type": "execute_result"
        }
      ],
      "source": [
        "import torch\n",
        "torch.cuda.is_available()"
      ]
    },
    {
      "cell_type": "code",
      "execution_count": 97,
      "id": "-nb6ufMvgWAf",
      "metadata": {
        "colab": {
          "base_uri": "https://localhost:8080/",
          "height": 35
        },
        "id": "-nb6ufMvgWAf",
        "outputId": "7d91a89e-e876-4ce3-b1b3-9d64bb46224a"
      },
      "outputs": [
        {
          "data": {
            "application/vnd.google.colaboratory.intrinsic+json": {
              "type": "string"
            },
            "text/plain": [
              "'cuda'"
            ]
          },
          "execution_count": 97,
          "metadata": {},
          "output_type": "execute_result"
        }
      ],
      "source": [
        "# Setup device agnostic code\n",
        "device = 'cuda' if  torch.cuda.is_available() else 'cpu'\n",
        "device"
      ]
    },
    {
      "cell_type": "code",
      "execution_count": 98,
      "id": "BMeiVZ2sgnTk",
      "metadata": {
        "colab": {
          "base_uri": "https://localhost:8080/"
        },
        "id": "BMeiVZ2sgnTk",
        "outputId": "b5dde7b4-b501-4aeb-a8e3-6a6c76944e5c"
      },
      "outputs": [
        {
          "data": {
            "text/plain": [
              "1"
            ]
          },
          "execution_count": 98,
          "metadata": {},
          "output_type": "execute_result"
        }
      ],
      "source": [
        "# Count number of devices\n",
        "torch.cuda.device_count()"
      ]
    },
    {
      "cell_type": "markdown",
      "id": "yDWe7vfuiP_4",
      "metadata": {
        "id": "yDWe7vfuiP_4"
      },
      "source": [
        "## Putting Tensors (and Pytorch Models ) on the GPU\n",
        "\n",
        "The reason we want our tensors/models on the GPU is becuase using a GPU will result in faster tensor computations\n",
        "\n",
        "* By default the computations are done in CPU"
      ]
    },
    {
      "cell_type": "code",
      "execution_count": 99,
      "id": "KEa0MW6gicBj",
      "metadata": {
        "colab": {
          "base_uri": "https://localhost:8080/"
        },
        "id": "KEa0MW6gicBj",
        "outputId": "d39437b2-7f38-4763-f4dd-c1e59a70cd48"
      },
      "outputs": [
        {
          "data": {
            "text/plain": [
              "(tensor([1., 2., 3.]), device(type='cpu'))"
            ]
          },
          "execution_count": 99,
          "metadata": {},
          "output_type": "execute_result"
        }
      ],
      "source": [
        "tensor = torch.tensor([1, 2, 3], dtype=torch.float32)\n",
        "tensor, tensor.device"
      ]
    },
    {
      "cell_type": "code",
      "execution_count": 100,
      "id": "eijRP-skim61",
      "metadata": {
        "colab": {
          "base_uri": "https://localhost:8080/"
        },
        "id": "eijRP-skim61",
        "outputId": "cab9bf8b-5485-4531-b00e-8e887af079cc"
      },
      "outputs": [
        {
          "data": {
            "text/plain": [
              "(tensor([1., 2., 3.], device='cuda:0'), device(type='cuda', index=0))"
            ]
          },
          "execution_count": 100,
          "metadata": {},
          "output_type": "execute_result"
        }
      ],
      "source": [
        "# Move tensor to GPU (if available)\n",
        "tensor_on_gpu = tensor.to(device)\n",
        "tensor_on_gpu, tensor_on_gpu.device"
      ]
    },
    {
      "cell_type": "code",
      "execution_count": 101,
      "id": "m-sw19eAjAgK",
      "metadata": {
        "colab": {
          "base_uri": "https://localhost:8080/"
        },
        "id": "m-sw19eAjAgK",
        "outputId": "1fb6f6dd-42a1-4b45-8e73-d6026422470f"
      },
      "outputs": [
        {
          "data": {
            "text/plain": [
              "(tensor([1., 2., 3.]), device(type='cpu'))"
            ]
          },
          "execution_count": 101,
          "metadata": {},
          "output_type": "execute_result"
        }
      ],
      "source": [
        "tensor_back_cpu = tensor_on_gpu.cpu()\n",
        "tensor_back_cpu, tensor_back_cpu.device"
      ]
    },
    {
      "cell_type": "code",
      "execution_count": 102,
      "id": "3D9PFIn9jOzv",
      "metadata": {
        "colab": {
          "base_uri": "https://localhost:8080/"
        },
        "id": "3D9PFIn9jOzv",
        "outputId": "5f218233-b1d1-472f-dfb8-7f19fadf51bd"
      },
      "outputs": [
        {
          "data": {
            "text/plain": [
              "tensor([1., 2., 3.], device='cuda:0')"
            ]
          },
          "execution_count": 102,
          "metadata": {},
          "output_type": "execute_result"
        }
      ],
      "source": [
        "tensor_on_gpu"
      ]
    },
    {
      "cell_type": "markdown",
      "id": "h1T1L7o8j57T",
      "metadata": {
        "id": "h1T1L7o8j57T"
      },
      "source": [
        "## Excersices and Extra curiculum"
      ]
    },
    {
      "cell_type": "markdown",
      "id": "XuafB2ovks8i",
      "metadata": {
        "id": "XuafB2ovks8i"
      },
      "source": [
        "1. Documentation reading - A big part of deep learning (and learning to code in general) is getting familiar with the documentation of a certain framework you're using. We'll be using the PyTorch documentation a lot throughout the rest of this course. So I'd recommend spending 10-minutes reading the following (it's okay if you don't get some things for now, the focus is not yet full understanding, it's awareness). See the documentation on `torch.Tensor` and for `torch.cuda`."
      ]
    },
    {
      "cell_type": "markdown",
      "id": "uf81BvfBk1x4",
      "metadata": {
        "id": "uf81BvfBk1x4"
      },
      "source": [
        "2. Create a random tensor with shape `(7, 7)`"
      ]
    },
    {
      "cell_type": "code",
      "execution_count": 103,
      "id": "YucWwCcfl2Ax",
      "metadata": {
        "colab": {
          "base_uri": "https://localhost:8080/"
        },
        "id": "YucWwCcfl2Ax",
        "outputId": "81a05cdd-b705-405a-dd25-ba620eb98075"
      },
      "outputs": [
        {
          "data": {
            "text/plain": [
              "(tensor([[0.6130, 0.0101, 0.3984, 0.0403, 0.1563, 0.4825, 0.7362],\n",
              "         [0.4060, 0.5189, 0.2867, 0.2416, 0.9228, 0.8299, 0.0342],\n",
              "         [0.3879, 0.0824, 0.7742, 0.2792, 0.5138, 0.2068, 0.0074],\n",
              "         [0.8750, 0.9682, 0.1201, 0.1972, 0.4503, 0.0511, 0.4892],\n",
              "         [0.9331, 0.3807, 0.0509, 0.2663, 0.6495, 0.2675, 0.1733],\n",
              "         [0.8565, 0.2761, 0.2093, 0.0711, 0.7701, 0.6100, 0.3444],\n",
              "         [0.9852, 0.4692, 0.9203, 0.7127, 0.1052, 0.8138, 0.1092]],\n",
              "        device='cuda:0'),\n",
              " torch.Size([7, 7]),\n",
              " 2)"
            ]
          },
          "execution_count": 103,
          "metadata": {},
          "output_type": "execute_result"
        }
      ],
      "source": [
        "tensor = torch.rand((7, 7), dtype=torch.float32, device='cuda')\n",
        "tensor, tensor.shape, tensor.ndim"
      ]
    },
    {
      "cell_type": "markdown",
      "id": "kwgV2XmAk6ve",
      "metadata": {
        "id": "kwgV2XmAk6ve"
      },
      "source": [
        "3. Perform a matrix multiplication on the tensor from 2 with another random tensor with shape `(1, 7)` (hint: you may have to transpose the second tensor)."
      ]
    },
    {
      "cell_type": "code",
      "execution_count": 104,
      "id": "1qATdRkKl2ZY",
      "metadata": {
        "colab": {
          "base_uri": "https://localhost:8080/"
        },
        "id": "1qATdRkKl2ZY",
        "outputId": "5867c5fd-3676-442a-d5cc-696095ed7371"
      },
      "outputs": [
        {
          "data": {
            "text/plain": [
              "(tensor([[1.9552],\n",
              "         [1.5603]]),\n",
              " torch.Size([2, 1]))"
            ]
          },
          "execution_count": 104,
          "metadata": {},
          "output_type": "execute_result"
        }
      ],
      "source": [
        "tensorA = torch.rand((2, 7))\n",
        "tensorB = torch.rand((1, 7))\n",
        "dot_product = torch.matmul(tensorA, tensorB.T)\n",
        "dot_product, dot_product.shape"
      ]
    },
    {
      "cell_type": "markdown",
      "id": "tAXi3VbEk-vf",
      "metadata": {
        "id": "tAXi3VbEk-vf"
      },
      "source": [
        "4. Set the random seed to `0` and do exercises 2 & 3 over again."
      ]
    },
    {
      "cell_type": "code",
      "execution_count": 105,
      "id": "coL3eozul2y_",
      "metadata": {
        "colab": {
          "base_uri": "https://localhost:8080/"
        },
        "id": "coL3eozul2y_",
        "outputId": "d8668330-bb55-4837-94ee-823a3cdd3a24"
      },
      "outputs": [
        {
          "data": {
            "text/plain": [
              "(tensor([[0.6130, 0.0101, 0.3984, 0.0403, 0.1563, 0.4825, 0.7362],\n",
              "         [0.4060, 0.5189, 0.2867, 0.2416, 0.9228, 0.8299, 0.0342],\n",
              "         [0.3879, 0.0824, 0.7742, 0.2792, 0.5138, 0.2068, 0.0074],\n",
              "         [0.8750, 0.9682, 0.1201, 0.1972, 0.4503, 0.0511, 0.4892],\n",
              "         [0.9331, 0.3807, 0.0509, 0.2663, 0.6495, 0.2675, 0.1733],\n",
              "         [0.8565, 0.2761, 0.2093, 0.0711, 0.7701, 0.6100, 0.3444],\n",
              "         [0.9852, 0.4692, 0.9203, 0.7127, 0.1052, 0.8138, 0.1092]],\n",
              "        device='cuda:0'),\n",
              " torch.Size([7, 7]),\n",
              " 2)"
            ]
          },
          "execution_count": 105,
          "metadata": {},
          "output_type": "execute_result"
        }
      ],
      "source": [
        "RANDOM_SEED = 42\n",
        "\n",
        "# excersice 2\n",
        "torch.manual_seed(RANDOM_SEED)\n",
        "tensor = torch.rand((7, 7), dtype=torch.float32, device='cuda')\n",
        "tensor, tensor.shape, tensor.ndim"
      ]
    },
    {
      "cell_type": "code",
      "execution_count": 106,
      "id": "wn5o5zUKm9P-",
      "metadata": {
        "colab": {
          "base_uri": "https://localhost:8080/"
        },
        "id": "wn5o5zUKm9P-",
        "outputId": "2a01df28-1fc4-483d-ebc8-96923eaffd7d"
      },
      "outputs": [
        {
          "name": "stdout",
          "output_type": "stream",
          "text": [
            "tensor([[0.8823, 0.9150, 0.3829, 0.9593, 0.3904, 0.6009, 0.2566],\n",
            "        [0.7936, 0.9408, 0.1332, 0.9346, 0.5936, 0.8694, 0.5677]])\n",
            "tensor([[0.8823, 0.9150, 0.3829, 0.9593, 0.3904, 0.6009, 0.2566]])\n",
            "tensor([[ True,  True,  True,  True,  True,  True,  True],\n",
            "        [False, False, False, False, False, False, False]])\n",
            "Dot Product: \n"
          ]
        },
        {
          "data": {
            "text/plain": [
              "(tensor([[3.2618],\n",
              "         [3.4084]]),\n",
              " torch.Size([2, 1]))"
            ]
          },
          "execution_count": 106,
          "metadata": {},
          "output_type": "execute_result"
        }
      ],
      "source": [
        "torch.manual_seed(RANDOM_SEED)\n",
        "tensorA = torch.rand((2, 7))\n",
        "\n",
        "torch.manual_seed(RANDOM_SEED)\n",
        "tensorB = torch.rand((1, 7))\n",
        "\n",
        "print(tensorA)\n",
        "print(tensorB)\n",
        "print(tensorA == tensorB)\n",
        "\n",
        "print('Dot Product: ')\n",
        "dot_product = torch.matmul(tensorA, tensorB.T)\n",
        "dot_product, dot_product.shape"
      ]
    },
    {
      "cell_type": "markdown",
      "id": "U0UepcMmk_KJ",
      "metadata": {
        "id": "U0UepcMmk_KJ"
      },
      "source": [
        "5. Speaking of random seeds, we saw how to set it with `torch.manual_seed()` but is there a GPU equivalent? (hint: you'll need to look into the documentation for `torch.cuda` for this one). If there is, set the GPU random seed to `1234`."
      ]
    },
    {
      "cell_type": "code",
      "execution_count": 107,
      "id": "mSo6pms-l3TX",
      "metadata": {
        "colab": {
          "base_uri": "https://localhost:8080/"
        },
        "id": "mSo6pms-l3TX",
        "outputId": "047ce760-eed8-4a1a-e15c-f837fc71eaa3"
      },
      "outputs": [
        {
          "data": {
            "text/plain": [
              "tensor([3, 4, 5], device='cuda:0')"
            ]
          },
          "execution_count": 107,
          "metadata": {},
          "output_type": "execute_result"
        }
      ],
      "source": [
        "RANDOM_GPU_SEED = 1234\n",
        "torch.manual_seed(RANDOM_GPU_SEED)\n",
        "gpu_tensor = torch.tensor([3, 4, 5], device='cuda')\n",
        "gpu_tensor"
      ]
    },
    {
      "cell_type": "markdown",
      "id": "N6HhJm8Sk_Vw",
      "metadata": {
        "id": "N6HhJm8Sk_Vw"
      },
      "source": [
        "6. Create two random tensors of shape `(2, 3)` and send them both to the GPU (you'll need access to a GPU for this). Set `torch.manual_seed(1234)` when creating the tensors (this doesn't have to be the GPU random seed)."
      ]
    },
    {
      "cell_type": "code",
      "execution_count": 108,
      "id": "RIidsO6ll3sf",
      "metadata": {
        "colab": {
          "base_uri": "https://localhost:8080/"
        },
        "id": "RIidsO6ll3sf",
        "outputId": "5186db7b-04e0-4d77-b426-3ff98c07868e"
      },
      "outputs": [
        {
          "data": {
            "text/plain": [
              "(tensor([[0.0290, 0.4019, 0.2598],\n",
              "         [0.3666, 0.0583, 0.7006]], device='cuda:0'),\n",
              " tensor([[0.0290, 0.4019, 0.2598],\n",
              "         [0.3666, 0.0583, 0.7006]], device='cuda:0'))"
            ]
          },
          "execution_count": 108,
          "metadata": {},
          "output_type": "execute_result"
        }
      ],
      "source": [
        "torch.manual_seed(1234)\n",
        "random_tensorA = torch.rand((2, 3))\n",
        "\n",
        "torch.manual_seed(1234)\n",
        "random_tensorB = torch.rand((2, 3))\n",
        "\n",
        "random_tensorA_gpu = random_tensorA.to('cuda')\n",
        "random_tensorB_gpu = random_tensorB.to('cuda')\n",
        "\n",
        "random_tensorA_gpu, random_tensorB_gpu"
      ]
    },
    {
      "cell_type": "markdown",
      "id": "WhUkDgmbk_do",
      "metadata": {
        "id": "WhUkDgmbk_do"
      },
      "source": [
        "7. Perform a matrix multiplication on the tensors you created in 6 (again, you may have to adjust the shapes of one of the tensors)."
      ]
    },
    {
      "cell_type": "code",
      "execution_count": 109,
      "id": "WO-PNbYNl4G6",
      "metadata": {
        "colab": {
          "base_uri": "https://localhost:8080/"
        },
        "id": "WO-PNbYNl4G6",
        "outputId": "d8d6461b-f1a9-461c-fa79-ac9e375a1f66"
      },
      "outputs": [
        {
          "data": {
            "text/plain": [
              "(tensor([[0.1353, 0.0330, 0.2644],\n",
              "         [0.0330, 0.1649, 0.1453],\n",
              "         [0.2644, 0.1453, 0.5584]], device='cuda:0'),\n",
              " torch.Size([3, 3]))"
            ]
          },
          "execution_count": 109,
          "metadata": {},
          "output_type": "execute_result"
        }
      ],
      "source": [
        "matmul_tensor = torch.matmul(random_tensorA_gpu.T, random_tensorB_gpu)\n",
        "matmul_tensor, matmul_tensor.shape"
      ]
    },
    {
      "cell_type": "markdown",
      "id": "IjOLIRouk_k0",
      "metadata": {
        "id": "IjOLIRouk_k0"
      },
      "source": [
        "8. Find the maximum and minimum values of the output of 7."
      ]
    },
    {
      "cell_type": "code",
      "execution_count": 110,
      "id": "Jkx5JFiOl4go",
      "metadata": {
        "colab": {
          "base_uri": "https://localhost:8080/"
        },
        "id": "Jkx5JFiOl4go",
        "outputId": "cf090f1b-1867-4941-9177-c4e1ff295690"
      },
      "outputs": [
        {
          "name": "stdout",
          "output_type": "stream",
          "text": [
            "tensor(0.5584, device='cuda:0')\n",
            "tensor(0.0330, device='cuda:0')\n"
          ]
        }
      ],
      "source": [
        "print(torch.max(matmul_tensor))\n",
        "print(torch.min(matmul_tensor))"
      ]
    },
    {
      "cell_type": "markdown",
      "id": "r5ts0u-xk_rL",
      "metadata": {
        "id": "r5ts0u-xk_rL"
      },
      "source": [
        "9. Find the maximum and minimum index values of the output of 7."
      ]
    },
    {
      "cell_type": "code",
      "execution_count": 111,
      "id": "WFMHBWZUl46H",
      "metadata": {
        "colab": {
          "base_uri": "https://localhost:8080/"
        },
        "id": "WFMHBWZUl46H",
        "outputId": "c1f029f7-fc64-4385-b098-ae92bf502e98"
      },
      "outputs": [
        {
          "name": "stdout",
          "output_type": "stream",
          "text": [
            "tensor(8, device='cuda:0')\n",
            "tensor(1, device='cuda:0')\n"
          ]
        }
      ],
      "source": [
        "print(torch.argmax(matmul_tensor))\n",
        "print(torch.argmin(matmul_tensor))"
      ]
    },
    {
      "cell_type": "markdown",
      "id": "lCZ-6Suvk_wz",
      "metadata": {
        "id": "lCZ-6Suvk_wz"
      },
      "source": [
        "10. Make a random tensor with shape `(1, 1, 1, 10)` and then create a new tensor with all the `1` dimensions removed to be left with a tensor of shape `(10)`. Set the seed to `7` when you create it and print out the first tensor and it's shape as well as the second tensor and it's shape."
      ]
    },
    {
      "cell_type": "code",
      "execution_count": 113,
      "id": "wvdkc-Q5lqRq",
      "metadata": {
        "id": "wvdkc-Q5lqRq"
      },
      "outputs": [],
      "source": [
        "torch.manual_seed(7)\n",
        "rand_tensor = torch.rand((1, 1, 1, 10), dtype=torch.float32)\n",
        "\n",
        "torch.manual_seed(7)\n",
        "rand2_tensor = torch.rand((1, 1, 1, 10), dtype=torch.float32)\n",
        "rand2_tensor = torch.squeeze(rand2_tensor)"
      ]
    },
    {
      "cell_type": "code",
      "execution_count": 114,
      "id": "m5E0MBEXsiMZ",
      "metadata": {
        "colab": {
          "base_uri": "https://localhost:8080/"
        },
        "id": "m5E0MBEXsiMZ",
        "outputId": "15ce98b7-a6b0-4fe2-c0c2-8bb9c622176b"
      },
      "outputs": [
        {
          "data": {
            "text/plain": [
              "(tensor([[[[0.5349, 0.1988, 0.6592, 0.6569, 0.2328, 0.4251, 0.2071, 0.6297,\n",
              "            0.3653, 0.8513]]]]),\n",
              " torch.Size([1, 1, 1, 10]))"
            ]
          },
          "execution_count": 114,
          "metadata": {},
          "output_type": "execute_result"
        }
      ],
      "source": [
        "rand_tensor, rand_tensor.shape"
      ]
    },
    {
      "cell_type": "code",
      "execution_count": 115,
      "id": "E51c6KnDslKW",
      "metadata": {
        "colab": {
          "base_uri": "https://localhost:8080/"
        },
        "id": "E51c6KnDslKW",
        "outputId": "881fedf7-c66b-4054-8c97-1538550a69c4"
      },
      "outputs": [
        {
          "data": {
            "text/plain": [
              "(tensor([0.5349, 0.1988, 0.6592, 0.6569, 0.2328, 0.4251, 0.2071, 0.6297, 0.3653,\n",
              "         0.8513]),\n",
              " torch.Size([10]))"
            ]
          },
          "execution_count": 115,
          "metadata": {},
          "output_type": "execute_result"
        }
      ],
      "source": [
        "rand2_tensor, rand2_tensor.shape"
      ]
    }
  ],
  "metadata": {
    "accelerator": "GPU",
    "colab": {
      "gpuType": "T4",
      "provenance": [],
      "toc_visible": true
    },
    "kernelspec": {
      "display_name": "pytorch_env",
      "language": "python",
      "name": "pytorch_env"
    },
    "language_info": {
      "codemirror_mode": {
        "name": "ipython",
        "version": 3
      },
      "file_extension": ".py",
      "mimetype": "text/x-python",
      "name": "python",
      "nbconvert_exporter": "python",
      "pygments_lexer": "ipython3",
      "version": "3.10.9"
    }
  },
  "nbformat": 4,
  "nbformat_minor": 5
}
